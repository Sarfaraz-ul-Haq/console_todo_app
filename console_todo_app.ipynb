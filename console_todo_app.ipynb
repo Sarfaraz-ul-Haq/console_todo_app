{
  "nbformat": 4,
  "nbformat_minor": 0,
  "metadata": {
    "colab": {
      "provenance": [],
      "authorship_tag": "ABX9TyOvbkTwebGrg2RTIggqpCLT",
      "include_colab_link": true
    },
    "kernelspec": {
      "name": "python3",
      "display_name": "Python 3"
    },
    "language_info": {
      "name": "python"
    }
  },
  "cells": [
    {
      "cell_type": "markdown",
      "metadata": {
        "id": "view-in-github",
        "colab_type": "text"
      },
      "source": [
        "<a href=\"https://colab.research.google.com/github/Sarfaraz-ul-Haq/console_todo_app/blob/main/console_todo_app.ipynb\" target=\"_parent\"><img src=\"https://colab.research.google.com/assets/colab-badge.svg\" alt=\"Open In Colab\"/></a>"
      ]
    },
    {
      "cell_type": "code",
      "execution_count": 2,
      "metadata": {
        "colab": {
          "base_uri": "https://localhost:8080/"
        },
        "id": "LlFqPhTM4e7a",
        "outputId": "eadbbbba-23dc-43bf-d5bf-aef0b635f1bb"
      },
      "outputs": [
        {
          "output_type": "stream",
          "name": "stdout",
          "text": [
            "Enter a todo or exit: learn  python\n",
            "Enter a todo or exit: learn  fastapi\n",
            "Enter a todo or exit:           \n",
            "Please enter a todo: \n",
            "Enter a todo or exit: exit\n",
            "[{'todo': 'learn  python', 'completed': False}, {'todo': 'learn  fastapi', 'completed': False}]\n"
          ]
        }
      ],
      "source": [
        "from typing import Any, List, Dict, Union\n",
        "\n",
        "todo_list: List[Dict[str, Union[str, bool]]] = []\n",
        "\n",
        "while True:\n",
        "    todo: str = input(\"Enter a todo or exit: \")\n",
        "\n",
        "    if todo.lower() == \"exit\":\n",
        "        break\n",
        "\n",
        "    if todo.strip() == \"\":\n",
        "        print(\"Please enter a todo: \")\n",
        "        continue\n",
        "\n",
        "    for todo_dict in todo_list:\n",
        "        if todo_dict[\"todo\"] == todo:\n",
        "            add = input(\"Duplicate todo! Do you still want to add it? (yes / no)\")\n",
        "            if add.lower() == \"no\":\n",
        "                break\n",
        "    else:\n",
        "        todo_list.append({\"todo\": todo, \"completed\": False})\n",
        "\n",
        "\n",
        "print(todo_list)\n"
      ]
    }
  ]
}